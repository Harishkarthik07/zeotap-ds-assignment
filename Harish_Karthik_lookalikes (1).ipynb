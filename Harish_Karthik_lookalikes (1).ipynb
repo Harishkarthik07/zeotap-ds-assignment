{
 "cells": [
  {
   "cell_type": "code",
   "execution_count": 9,
   "id": "580cc341-7c90-40b3-8ee0-609fa78a485c",
   "metadata": {},
   "outputs": [],
   "source": [
    "import pandas as pd\n",
    "import numpy as np\n",
    "from sklearn.metrics.pairwise import cosine_similarity\n",
    "from sklearn.preprocessing import StandardScaler"
   ]
  },
  {
   "cell_type": "code",
   "execution_count": 10,
   "id": "ad589ab4-d3a2-41ef-9209-a7fa3f29bc91",
   "metadata": {},
   "outputs": [],
   "source": [
    "customers = pd.read_csv('Customers.csv')\n",
    "transactions = pd.read_csv('Transactions.csv')\n",
    "products = pd.read_csv('Products.csv')\n"
   ]
  },
  {
   "cell_type": "code",
   "execution_count": 11,
   "id": "4fd58a16-de0e-4a43-91c2-ce5f8d6ccb96",
   "metadata": {},
   "outputs": [],
   "source": [
    "merged_data = pd.merge(transactions, customers, on='CustomerID')\n",
    "merged_data = pd.merge(merged_data, products, on='ProductID')"
   ]
  },
  {
   "cell_type": "code",
   "execution_count": 12,
   "id": "9954b415-0a4c-4089-a671-3bbfc0e3f6ed",
   "metadata": {},
   "outputs": [],
   "source": [
    "customer_features = merged_data.groupby('CustomerID').agg({'TotalValue': 'sum', 'TransactionID': 'nunique',  'ProductID': 'nunique', }).reset_index()"
   ]
  },
  {
   "cell_type": "code",
   "execution_count": 13,
   "id": "9afd24df-0e41-42fd-83cc-3ad1045e5221",
   "metadata": {},
   "outputs": [],
   "source": [
    "customer_features['Region'] = customers['Region']\n",
    "customer_features['SignupYear'] = pd.to_datetime(customers['SignupDate']).dt.year"
   ]
  },
  {
   "cell_type": "code",
   "execution_count": 14,
   "id": "8e129ca7-9815-442b-873a-fc32dff5be44",
   "metadata": {},
   "outputs": [],
   "source": [
    "scaler = StandardScaler()\n",
    "scaled_features = scaler.fit_transform(customer_features[['TotalValue', 'TransactionID', 'ProductID', 'SignupYear']])"
   ]
  },
  {
   "cell_type": "code",
   "execution_count": 16,
   "id": "96e2356d-805e-4cc7-bd80-1206c2d4aa18",
   "metadata": {},
   "outputs": [],
   "source": [
    "similarity_matrix = cosine_similarity(scaled_features)"
   ]
  },
  {
   "cell_type": "code",
   "execution_count": 18,
   "id": "e7e918b3-ba2c-436a-9f79-612259e80dfc",
   "metadata": {},
   "outputs": [],
   "source": [
    "lookalike_dict = {}\n",
    "for i in range(min(20, len(customers))):  \n",
    "    similar_customers = np.argsort(similarity_matrix[i])[-4:-1]  \n",
    "    \n",
    "   \n",
    "    similar_customers = [j for j in similar_customers if j != i]\n",
    "    \n",
    "\n",
    "    similar_scores = similarity_matrix[i][similar_customers]\n",
    "    \n",
    "    \n",
    "    lookalike_dict[customers['CustomerID'][i]] = [\n",
    "        (customers['CustomerID'][j], similar_scores[j]) for j in range(min(3, len(similar_scores)))\n",
    "    ]"
   ]
  },
  {
   "cell_type": "code",
   "execution_count": 19,
   "id": "71b9c87b-a08b-4bd4-b54d-bd41d5ed27f7",
   "metadata": {},
   "outputs": [],
   "source": [
    "lookalike_list = []\n",
    "for customer, recommendations in lookalike_dict.items():\n",
    "    for rec in recommendations:\n",
    "        lookalike_list.append([customer, rec[0], rec[1]])\n",
    "\n",
    "lookalike_df = pd.DataFrame(lookalike_list, columns=['CustomerID', 'LookalikeCustomerID', 'SimilarityScore'])"
   ]
  },
  {
   "cell_type": "code",
   "execution_count": 20,
   "id": "68985acb-1e88-4566-b576-df94cbc88431",
   "metadata": {},
   "outputs": [],
   "source": [
    "lookalike_df.to_csv('Harish_Karthik_Lookalike.csv', index=False)"
   ]
  },
  {
   "cell_type": "code",
   "execution_count": 21,
   "id": "5bed282a-52d6-49b9-bbbd-9a7e1a8fe437",
   "metadata": {},
   "outputs": [
    {
     "data": {
      "text/html": [
       "<div>\n",
       "<style scoped>\n",
       "    .dataframe tbody tr th:only-of-type {\n",
       "        vertical-align: middle;\n",
       "    }\n",
       "\n",
       "    .dataframe tbody tr th {\n",
       "        vertical-align: top;\n",
       "    }\n",
       "\n",
       "    .dataframe thead th {\n",
       "        text-align: right;\n",
       "    }\n",
       "</style>\n",
       "<table border=\"1\" class=\"dataframe\">\n",
       "  <thead>\n",
       "    <tr style=\"text-align: right;\">\n",
       "      <th></th>\n",
       "      <th>CustomerID</th>\n",
       "      <th>LookalikeCustomerID</th>\n",
       "      <th>SimilarityScore</th>\n",
       "    </tr>\n",
       "  </thead>\n",
       "  <tbody>\n",
       "    <tr>\n",
       "      <th>0</th>\n",
       "      <td>C0001</td>\n",
       "      <td>C0001</td>\n",
       "      <td>0.984819</td>\n",
       "    </tr>\n",
       "    <tr>\n",
       "      <th>1</th>\n",
       "      <td>C0001</td>\n",
       "      <td>C0002</td>\n",
       "      <td>0.987127</td>\n",
       "    </tr>\n",
       "    <tr>\n",
       "      <th>2</th>\n",
       "      <td>C0001</td>\n",
       "      <td>C0003</td>\n",
       "      <td>0.999910</td>\n",
       "    </tr>\n",
       "    <tr>\n",
       "      <th>3</th>\n",
       "      <td>C0002</td>\n",
       "      <td>C0001</td>\n",
       "      <td>0.999222</td>\n",
       "    </tr>\n",
       "    <tr>\n",
       "      <th>4</th>\n",
       "      <td>C0002</td>\n",
       "      <td>C0002</td>\n",
       "      <td>0.999452</td>\n",
       "    </tr>\n",
       "  </tbody>\n",
       "</table>\n",
       "</div>"
      ],
      "text/plain": [
       "  CustomerID LookalikeCustomerID  SimilarityScore\n",
       "0      C0001               C0001         0.984819\n",
       "1      C0001               C0002         0.987127\n",
       "2      C0001               C0003         0.999910\n",
       "3      C0002               C0001         0.999222\n",
       "4      C0002               C0002         0.999452"
      ]
     },
     "execution_count": 21,
     "metadata": {},
     "output_type": "execute_result"
    }
   ],
   "source": [
    "lookalike_df.head()"
   ]
  },
  {
   "cell_type": "code",
   "execution_count": null,
   "id": "ed69799c-5483-4126-a404-63f4eee1d10a",
   "metadata": {},
   "outputs": [],
   "source": []
  }
 ],
 "metadata": {
  "kernelspec": {
   "display_name": "Python 3 (ipykernel)",
   "language": "python",
   "name": "python3"
  },
  "language_info": {
   "codemirror_mode": {
    "name": "ipython",
    "version": 3
   },
   "file_extension": ".py",
   "mimetype": "text/x-python",
   "name": "python",
   "nbconvert_exporter": "python",
   "pygments_lexer": "ipython3",
   "version": "3.12.7"
  }
 },
 "nbformat": 4,
 "nbformat_minor": 5
}
